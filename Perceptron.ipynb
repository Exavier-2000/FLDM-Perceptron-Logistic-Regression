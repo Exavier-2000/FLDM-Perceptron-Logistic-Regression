{
 "cells": [
  {
   "cell_type": "code",
   "execution_count": 29,
   "id": "b6829bd8",
   "metadata": {},
   "outputs": [],
   "source": [
    "import pandas as pd\n",
    "import numpy as np\n",
    "import random\n",
    "# Load the dataset\n",
    "data = pd.read_csv('DSet.csv')\n",
    "data_norm=pd.read_csv('Dset.csv')"
   ]
  },
  {
   "cell_type": "markdown",
   "id": "5158e523",
   "metadata": {},
   "source": [
    "# Feature Engineering Task 1"
   ]
  },
  {
   "cell_type": "code",
   "execution_count": 30,
   "id": "e992b484",
   "metadata": {},
   "outputs": [],
   "source": [
    "def Engineering_Task1(data):\n",
    "    # Iterate through each column\n",
    "    for col in data.columns:\n",
    "        # Check if the column contains missing values\n",
    "        if data[col].isnull().sum() > 0:\n",
    "            # If the column is categorical, impute with the most frequent value\n",
    "            if data[col].dtype == 'object':\n",
    "                data[col].fillna(data[col].value_counts().index[0], inplace=True)\n",
    "\n",
    "        # If the column is numerical, impute with the mean value\n",
    "            else:\n",
    "                data[col].fillna(data[col].mean(), inplace=True)\n",
    "\n",
    "# Save the imputed dataset\n",
    "    data.to_csv('imputed_data.csv', index=False)"
   ]
  },
  {
   "cell_type": "markdown",
   "id": "048c440d",
   "metadata": {},
   "source": [
    "# Feature Engineering Task 2"
   ]
  },
  {
   "cell_type": "code",
   "execution_count": 31,
   "id": "0d087467",
   "metadata": {},
   "outputs": [],
   "source": [
    "def Engineering_Task2(data):\n",
    "    # Iterate through each column\n",
    "    for col in data.columns:\n",
    "        # Calculate the mean and standard deviation of the column\n",
    "        if data[col].dtype != 'object' and col!='id':\n",
    "            mean = data[col].mean()\n",
    "            std = data[col].std()\n",
    "            # Normalize the column using the formula (X' = (X - µ) / σ)\n",
    "            data[col] = (data[col] - mean) / std  \n",
    "\n",
    "\n",
    "    # Save the normalized dataset\n",
    "    data.to_csv('normalized_data.csv', index=False)\n",
    "    # print(data)"
   ]
  },
  {
   "cell_type": "markdown",
   "id": "c4eca6f9",
   "metadata": {},
   "source": [
    "# Perceptron"
   ]
  },
  {
   "cell_type": "code",
   "execution_count": 32,
   "id": "1ec21eb2",
   "metadata": {},
   "outputs": [],
   "source": [
    "class Perceptron:\n",
    "\n",
    "    def __init__(self, learning_rate=0.01, n_iterations=1000):\n",
    "        self.learning_rate = learning_rate\n",
    "        self.n_iterations = n_iterations\n",
    "\n",
    "    def fit(self, X, y):\n",
    "        n_samples, n_features = X.shape\n",
    "        self.weights = np.zeros(n_features)        \n",
    "        self.bias = 0\n",
    "        for i in range(self.n_iterations):\n",
    "            for j in range(n_samples):\n",
    "                if y[j] * (np.dot(X[j], self.weights) + self.bias) <= 0:\n",
    "                    self.weights += self.learning_rate * y[j] * X[j]\n",
    "                    self.bias += self.learning_rate * y[j]\n",
    "        \n",
    "\n",
    "    def predict(self, X):\n",
    "        linear_output = np.dot(X, self.weights) + self.bias\n",
    "        return np.where(linear_output >= 0, 1, -1)\n"
   ]
  },
  {
   "cell_type": "markdown",
   "id": "a9982dfe",
   "metadata": {},
   "source": [
    "# Perceptron Model - PM1"
   ]
  },
  {
   "cell_type": "code",
   "execution_count": 33,
   "id": "9a40455d",
   "metadata": {},
   "outputs": [
    {
     "name": "stdout",
     "output_type": "stream",
     "text": [
      "1 0.9148936170212766\n",
      "2 0.9148936170212766\n",
      "3 0.9148936170212766\n",
      "4 0.9148936170212766\n",
      "5 0.9148936170212766\n",
      "6 0.9148936170212766\n",
      "7 0.9148936170212766\n",
      "8 0.9148936170212766\n",
      "9 0.9148936170212766\n",
      "10 0.9148936170212766\n",
      "PM1 Accuracy: 0.9148936170212766\n"
     ]
    }
   ],
   "source": [
    "# Split the dataset into features and labels\n",
    "Engineering_Task1(data)\n",
    "Engineering_Task1(data_norm)\n",
    "X = data.drop(['diagnosis','id'], axis=1).values\n",
    "y = data['diagnosis'].values\n",
    "\n",
    "y[y=='M']=-1\n",
    "y[y=='B']=1\n",
    "\n",
    "# assume X and y are the feature matrix and target vector, respectively\n",
    "\n",
    "# shuffle the indices of the data\n",
    "indices = list(range(len(X)))\n",
    "random.shuffle(indices)\n",
    "\n",
    "# calculate the split point\n",
    "split_idx = int(0.67 * len(X))\n",
    "\n",
    "\n",
    "# split the data into training and testing sets\n",
    "train_X = X[indices[:split_idx]]\n",
    "train_y = y[indices[:split_idx]]\n",
    "test_X = X[indices[split_idx:]]\n",
    "test_y = y[indices[split_idx:]]\n",
    "# x[:3,:2]\n",
    "accuracies=[]\n",
    "for i in range(10):\n",
    "    # Create an instance of the Perceptron class\n",
    "    perceptron = Perceptron()\n",
    "\n",
    "    # Train the Perceptron model\n",
    "    perceptron.fit(train_X,train_y)\n",
    "\n",
    "    # Predict the labels for the training data\n",
    "    y_pred = perceptron.predict(test_X)\n",
    "\n",
    "    # Calculate the accuracy of the model\n",
    "    accuracy = np.mean(y_pred == test_y)\n",
    "    print(i+1,accuracy)\n",
    "    accuracies.append(accuracy)\n",
    "    \n",
    "\n",
    "# Print the accuracy of the model\n",
    "print('PM1 Accuracy:', np.mean(accuracies))\n",
    "\n"
   ]
  },
  {
   "cell_type": "markdown",
   "id": "60595a90",
   "metadata": {},
   "source": [
    "# Perceptron Model - PM2"
   ]
  },
  {
   "cell_type": "code",
   "execution_count": 34,
   "id": "809d4fdb",
   "metadata": {},
   "outputs": [
    {
     "name": "stdout",
     "output_type": "stream",
     "text": [
      "1 0.9042553191489362\n",
      "2 0.9042553191489362\n",
      "3 0.9042553191489362\n",
      "4 0.9042553191489362\n",
      "5 0.9042553191489362\n",
      "6 0.9042553191489362\n",
      "7 0.9042553191489362\n",
      "8 0.9042553191489362\n",
      "9 0.9042553191489362\n",
      "10 0.9042553191489362\n",
      "PM2 Accuracy: 0.9042553191489361\n"
     ]
    }
   ],
   "source": [
    "# shuffle the indices of the data\n",
    "indices = list(range(len(X)))\n",
    "random.shuffle(indices)\n",
    "\n",
    "# calculate the split point\n",
    "split_idx = int(0.67 * len(X))\n",
    "\n",
    "# split the data into training and testing sets\n",
    "train_X_2 = X[indices[:split_idx]]\n",
    "train_y_2 = y[indices[:split_idx]]\n",
    "test_X_2 = X[indices[split_idx:]]\n",
    "test_y_2 = y[indices[split_idx:]]\n",
    "\n",
    "accuracies=[]\n",
    "for i in range(10):\n",
    "    # Create an instance of the Perceptron class\n",
    "    perceptron = Perceptron()\n",
    "\n",
    "    # Train the Perceptron model\n",
    "    perceptron.fit(train_X_2,train_y_2)\n",
    "\n",
    "    # Predict the labels for the training data\n",
    "    y_pred = perceptron.predict(test_X_2)\n",
    "\n",
    "    # Calculate the accuracy of the model\n",
    "    accuracy = np.mean(y_pred == test_y_2)\n",
    "    print(i+1,accuracy)\n",
    "    accuracies.append(accuracy)\n",
    "    \n",
    "\n",
    "# Print the accuracy of the model\n",
    "print('PM2 Accuracy:', np.mean(accuracies))"
   ]
  },
  {
   "cell_type": "markdown",
   "id": "8a11a292",
   "metadata": {},
   "source": [
    "# Perceptron Model - PM3"
   ]
  },
  {
   "cell_type": "code",
   "execution_count": 35,
   "id": "e5dfd594",
   "metadata": {},
   "outputs": [
    {
     "name": "stdout",
     "output_type": "stream",
     "text": [
      "1 0.9627659574468085\n",
      "2 0.9627659574468085\n",
      "3 0.9627659574468085\n",
      "4 0.9627659574468085\n",
      "5 0.9627659574468085\n",
      "6 0.9627659574468085\n",
      "7 0.9627659574468085\n",
      "8 0.9627659574468085\n",
      "9 0.9627659574468085\n",
      "10 0.9627659574468085\n",
      "PM3 Accuracy: 0.9627659574468085\n"
     ]
    }
   ],
   "source": [
    "Engineering_Task2(data_norm)\n",
    "X = data_norm.drop(['diagnosis','id'], axis=1).values\n",
    "y = data_norm['diagnosis'].values\n",
    "# print(X)\n",
    "y[y=='M']=-1\n",
    "y[y=='B']=1\n",
    "# assume X and y are the feature matrix and target vector, respectively\n",
    "# print(data)\n",
    "# shuffle the indices of the data\n",
    "indices = list(range(len(X)))\n",
    "random.shuffle(indices)\n",
    "\n",
    "# calculate the split point\n",
    "split_idx = int(0.67 * len(X))\n",
    "\n",
    "indices = list(range(len(y)))\n",
    "random.shuffle(indices)\n",
    "# print('new data')\n",
    "# print(data)\n",
    "\n",
    "\n",
    "# split the data into training and testing sets\n",
    "train_X = X[indices[:split_idx]]\n",
    "train_y = y[indices[:split_idx]]\n",
    "test_X = X[indices[split_idx:]]\n",
    "test_y = y[indices[split_idx:]]\n",
    "\n",
    "accuracies=[]\n",
    "for i in range(10):\n",
    "    # Create an instance of the Perceptron class\n",
    "    perceptron = Perceptron()\n",
    "\n",
    "    # Train the Perceptron model\n",
    "    perceptron.fit(train_X,train_y)\n",
    "\n",
    "    # Predict the labels for the training data\n",
    "    y_pred = perceptron.predict(test_X)\n",
    "\n",
    "    # Calculate the accuracy of the model\n",
    "    accuracy = np.mean(y_pred == test_y)\n",
    "    print(i+1,accuracy)\n",
    "    accuracies.append(accuracy)\n",
    "    \n",
    "\n",
    "# Print the accuracy of the model\n",
    "print('PM3 Accuracy:', np.mean(accuracies))"
   ]
  },
  {
   "cell_type": "markdown",
   "id": "f575f6cd",
   "metadata": {},
   "source": [
    "# Perceptron Model - PM4"
   ]
  },
  {
   "cell_type": "code",
   "execution_count": 36,
   "id": "7a71a708",
   "metadata": {},
   "outputs": [
    {
     "name": "stdout",
     "output_type": "stream",
     "text": [
      "1 0.9627659574468085\n",
      "2 0.9627659574468085\n",
      "3 0.9627659574468085\n",
      "4 0.9627659574468085\n",
      "5 0.9627659574468085\n",
      "6 0.9627659574468085\n",
      "7 0.9627659574468085\n",
      "8 0.9627659574468085\n",
      "9 0.9627659574468085\n",
      "10 0.9627659574468085\n",
      "PM4 Accuracy: 0.9627659574468085\n"
     ]
    }
   ],
   "source": [
    "# changing order of features        \n",
    "X_permuted=X[:,np.random.permutation(X.shape[1])]\n",
    "\n",
    "# now X_permuted_fixed has the same order of permutation for every row\n",
    "train_X_permuted =X_permuted[indices[:split_idx]]\n",
    "train_y_permuted =y[indices[:split_idx]]\n",
    "test_X_permuted= X_permuted[indices[split_idx:]]\n",
    "test_y_permuted= y[indices[split_idx:]]\n",
    "\n",
    "accuracies=[]\n",
    "for i in range(10):\n",
    "    # Create an instance of the Perceptron class\n",
    "    perceptron = Perceptron()\n",
    "\n",
    "    # Train the Perceptron model\n",
    "    perceptron.fit(train_X_permuted,train_y_permuted)\n",
    "\n",
    "    # Predict the labels for the training data\n",
    "    y_pred = perceptron.predict(test_X_permuted)\n",
    "\n",
    "    # Calculate the accuracy of the model\n",
    "    accuracy = np.mean(y_pred == test_y_permuted)\n",
    "    print(i+1,accuracy)\n",
    "    accuracies.append(accuracy)\n",
    "    \n",
    "\n",
    "# Print the accuracy of the model\n",
    "print('PM4 Accuracy:', np.mean(accuracies))"
   ]
  }
 ],
 "metadata": {
  "kernelspec": {
   "display_name": "Python 3 (ipykernel)",
   "language": "python",
   "name": "python3"
  },
  "language_info": {
   "codemirror_mode": {
    "name": "ipython",
    "version": 3
   },
   "file_extension": ".py",
   "mimetype": "text/x-python",
   "name": "python",
   "nbconvert_exporter": "python",
   "pygments_lexer": "ipython3",
   "version": "3.9.12"
  }
 },
 "nbformat": 4,
 "nbformat_minor": 5
}
