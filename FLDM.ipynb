{
  "cells": [
    {
      "cell_type": "code",
      "execution_count": 2,
      "metadata": {
        "id": "LkkJYlwc3Wa8"
      },
      "outputs": [],
      "source": [
        "import numpy as np\n",
        "import pandas as pd\n",
        "import random\n",
        "import math\n",
        "from matplotlib import pyplot as plt\n",
        "from mpl_toolkits.mplot3d import Axes3D\n",
        "import matplotlib.cm as cm\n",
        "\n",
        "%matplotlib inline\n",
        "data = pd.read_csv('normalized_data.csv')"
      ]
    },
    {
      "cell_type": "code",
      "execution_count": 3,
      "metadata": {
        "colab": {
          "base_uri": "https://localhost:8080/",
          "height": 317
        },
        "id": "hfSf7_c94UGB",
        "outputId": "db51e49c-8750-4176-f1c1-426bcf2f8289"
      },
      "outputs": [
        {
          "data": {
            "text/html": [
              "\n",
              "  <div id=\"df-65ef4f27-25da-40bf-b1be-cdd491fbc4c1\">\n",
              "    <div class=\"colab-df-container\">\n",
              "      <div>\n",
              "<style scoped>\n",
              "    .dataframe tbody tr th:only-of-type {\n",
              "        vertical-align: middle;\n",
              "    }\n",
              "\n",
              "    .dataframe tbody tr th {\n",
              "        vertical-align: top;\n",
              "    }\n",
              "\n",
              "    .dataframe thead th {\n",
              "        text-align: right;\n",
              "    }\n",
              "</style>\n",
              "<table border=\"1\" class=\"dataframe\">\n",
              "  <thead>\n",
              "    <tr style=\"text-align: right;\">\n",
              "      <th></th>\n",
              "      <th>id</th>\n",
              "      <th>diagnosis</th>\n",
              "      <th>radius_mean</th>\n",
              "      <th>texture_mean</th>\n",
              "      <th>perimeter_mean</th>\n",
              "      <th>area_mean</th>\n",
              "      <th>smoothness_mean</th>\n",
              "      <th>compactness_mean</th>\n",
              "      <th>concavity_mean</th>\n",
              "      <th>concave points_mean</th>\n",
              "      <th>...</th>\n",
              "      <th>radius_worst</th>\n",
              "      <th>texture_worst</th>\n",
              "      <th>perimeter_worst</th>\n",
              "      <th>area_worst</th>\n",
              "      <th>smoothness_worst</th>\n",
              "      <th>compactness_worst</th>\n",
              "      <th>concavity_worst</th>\n",
              "      <th>concave points_worst</th>\n",
              "      <th>symmetry_worst</th>\n",
              "      <th>fractal_dimension_worst</th>\n",
              "    </tr>\n",
              "  </thead>\n",
              "  <tbody>\n",
              "    <tr>\n",
              "      <th>0</th>\n",
              "      <td>842302</td>\n",
              "      <td>0</td>\n",
              "      <td>1.102422</td>\n",
              "      <td>-2.071512</td>\n",
              "      <td>1.268389</td>\n",
              "      <td>0.983510</td>\n",
              "      <td>1.567087</td>\n",
              "      <td>3.280628</td>\n",
              "      <td>2.650837</td>\n",
              "      <td>2.530249</td>\n",
              "      <td>...</td>\n",
              "      <td>1.885031</td>\n",
              "      <td>-1.358098</td>\n",
              "      <td>2.301575</td>\n",
              "      <td>1.998658</td>\n",
              "      <td>1.306537</td>\n",
              "      <td>2.614365</td>\n",
              "      <td>2.107374</td>\n",
              "      <td>2.294058</td>\n",
              "      <td>2.748204</td>\n",
              "      <td>1.935312</td>\n",
              "    </tr>\n",
              "    <tr>\n",
              "      <th>1</th>\n",
              "      <td>842517</td>\n",
              "      <td>0</td>\n",
              "      <td>1.836635</td>\n",
              "      <td>-0.353322</td>\n",
              "      <td>1.684639</td>\n",
              "      <td>1.907030</td>\n",
              "      <td>-0.826235</td>\n",
              "      <td>-0.486643</td>\n",
              "      <td>-0.025417</td>\n",
              "      <td>0.547662</td>\n",
              "      <td>...</td>\n",
              "      <td>1.804340</td>\n",
              "      <td>-0.368879</td>\n",
              "      <td>1.533776</td>\n",
              "      <td>1.887973</td>\n",
              "      <td>-0.375282</td>\n",
              "      <td>-0.430066</td>\n",
              "      <td>-0.147968</td>\n",
              "      <td>1.086129</td>\n",
              "      <td>-0.243675</td>\n",
              "      <td>0.280943</td>\n",
              "    </tr>\n",
              "    <tr>\n",
              "      <th>2</th>\n",
              "      <td>84300903</td>\n",
              "      <td>0</td>\n",
              "      <td>1.586206</td>\n",
              "      <td>0.455786</td>\n",
              "      <td>1.565122</td>\n",
              "      <td>1.557513</td>\n",
              "      <td>0.941382</td>\n",
              "      <td>1.052000</td>\n",
              "      <td>1.361666</td>\n",
              "      <td>2.035440</td>\n",
              "      <td>...</td>\n",
              "      <td>1.510541</td>\n",
              "      <td>-0.023953</td>\n",
              "      <td>1.346291</td>\n",
              "      <td>1.454016</td>\n",
              "      <td>0.526944</td>\n",
              "      <td>1.081980</td>\n",
              "      <td>0.853340</td>\n",
              "      <td>1.953282</td>\n",
              "      <td>1.151242</td>\n",
              "      <td>0.201214</td>\n",
              "    </tr>\n",
              "    <tr>\n",
              "      <th>3</th>\n",
              "      <td>84348301</td>\n",
              "      <td>0</td>\n",
              "      <td>-0.767260</td>\n",
              "      <td>0.253509</td>\n",
              "      <td>-0.595257</td>\n",
              "      <td>-0.763792</td>\n",
              "      <td>3.280667</td>\n",
              "      <td>3.399917</td>\n",
              "      <td>1.913989</td>\n",
              "      <td>1.450431</td>\n",
              "      <td>...</td>\n",
              "      <td>-0.281217</td>\n",
              "      <td>0.133866</td>\n",
              "      <td>-0.249720</td>\n",
              "      <td>-0.551147</td>\n",
              "      <td>3.391291</td>\n",
              "      <td>3.889975</td>\n",
              "      <td>1.987485</td>\n",
              "      <td>2.173873</td>\n",
              "      <td>6.040726</td>\n",
              "      <td>4.930672</td>\n",
              "    </tr>\n",
              "    <tr>\n",
              "      <th>4</th>\n",
              "      <td>84358402</td>\n",
              "      <td>0</td>\n",
              "      <td>1.756953</td>\n",
              "      <td>-1.150804</td>\n",
              "      <td>1.775308</td>\n",
              "      <td>1.824624</td>\n",
              "      <td>0.280125</td>\n",
              "      <td>0.538866</td>\n",
              "      <td>1.369198</td>\n",
              "      <td>1.427237</td>\n",
              "      <td>...</td>\n",
              "      <td>1.297434</td>\n",
              "      <td>-1.465481</td>\n",
              "      <td>1.337363</td>\n",
              "      <td>1.218589</td>\n",
              "      <td>0.220362</td>\n",
              "      <td>-0.313119</td>\n",
              "      <td>0.611645</td>\n",
              "      <td>0.728618</td>\n",
              "      <td>-0.867590</td>\n",
              "      <td>-0.396751</td>\n",
              "    </tr>\n",
              "  </tbody>\n",
              "</table>\n",
              "<p>5 rows × 32 columns</p>\n",
              "</div>\n",
              "      <button class=\"colab-df-convert\" onclick=\"convertToInteractive('df-65ef4f27-25da-40bf-b1be-cdd491fbc4c1')\"\n",
              "              title=\"Convert this dataframe to an interactive table.\"\n",
              "              style=\"display:none;\">\n",
              "        \n",
              "  <svg xmlns=\"http://www.w3.org/2000/svg\" height=\"24px\"viewBox=\"0 0 24 24\"\n",
              "       width=\"24px\">\n",
              "    <path d=\"M0 0h24v24H0V0z\" fill=\"none\"/>\n",
              "    <path d=\"M18.56 5.44l.94 2.06.94-2.06 2.06-.94-2.06-.94-.94-2.06-.94 2.06-2.06.94zm-11 1L8.5 8.5l.94-2.06 2.06-.94-2.06-.94L8.5 2.5l-.94 2.06-2.06.94zm10 10l.94 2.06.94-2.06 2.06-.94-2.06-.94-.94-2.06-.94 2.06-2.06.94z\"/><path d=\"M17.41 7.96l-1.37-1.37c-.4-.4-.92-.59-1.43-.59-.52 0-1.04.2-1.43.59L10.3 9.45l-7.72 7.72c-.78.78-.78 2.05 0 2.83L4 21.41c.39.39.9.59 1.41.59.51 0 1.02-.2 1.41-.59l7.78-7.78 2.81-2.81c.8-.78.8-2.07 0-2.86zM5.41 20L4 18.59l7.72-7.72 1.47 1.35L5.41 20z\"/>\n",
              "  </svg>\n",
              "      </button>\n",
              "      \n",
              "  <style>\n",
              "    .colab-df-container {\n",
              "      display:flex;\n",
              "      flex-wrap:wrap;\n",
              "      gap: 12px;\n",
              "    }\n",
              "\n",
              "    .colab-df-convert {\n",
              "      background-color: #E8F0FE;\n",
              "      border: none;\n",
              "      border-radius: 50%;\n",
              "      cursor: pointer;\n",
              "      display: none;\n",
              "      fill: #1967D2;\n",
              "      height: 32px;\n",
              "      padding: 0 0 0 0;\n",
              "      width: 32px;\n",
              "    }\n",
              "\n",
              "    .colab-df-convert:hover {\n",
              "      background-color: #E2EBFA;\n",
              "      box-shadow: 0px 1px 2px rgba(60, 64, 67, 0.3), 0px 1px 3px 1px rgba(60, 64, 67, 0.15);\n",
              "      fill: #174EA6;\n",
              "    }\n",
              "\n",
              "    [theme=dark] .colab-df-convert {\n",
              "      background-color: #3B4455;\n",
              "      fill: #D2E3FC;\n",
              "    }\n",
              "\n",
              "    [theme=dark] .colab-df-convert:hover {\n",
              "      background-color: #434B5C;\n",
              "      box-shadow: 0px 1px 3px 1px rgba(0, 0, 0, 0.15);\n",
              "      filter: drop-shadow(0px 1px 2px rgba(0, 0, 0, 0.3));\n",
              "      fill: #FFFFFF;\n",
              "    }\n",
              "  </style>\n",
              "\n",
              "      <script>\n",
              "        const buttonEl =\n",
              "          document.querySelector('#df-65ef4f27-25da-40bf-b1be-cdd491fbc4c1 button.colab-df-convert');\n",
              "        buttonEl.style.display =\n",
              "          google.colab.kernel.accessAllowed ? 'block' : 'none';\n",
              "\n",
              "        async function convertToInteractive(key) {\n",
              "          const element = document.querySelector('#df-65ef4f27-25da-40bf-b1be-cdd491fbc4c1');\n",
              "          const dataTable =\n",
              "            await google.colab.kernel.invokeFunction('convertToInteractive',\n",
              "                                                     [key], {});\n",
              "          if (!dataTable) return;\n",
              "\n",
              "          const docLinkHtml = 'Like what you see? Visit the ' +\n",
              "            '<a target=\"_blank\" href=https://colab.research.google.com/notebooks/data_table.ipynb>data table notebook</a>'\n",
              "            + ' to learn more about interactive tables.';\n",
              "          element.innerHTML = '';\n",
              "          dataTable['output_type'] = 'display_data';\n",
              "          await google.colab.output.renderOutput(dataTable, element);\n",
              "          const docLink = document.createElement('div');\n",
              "          docLink.innerHTML = docLinkHtml;\n",
              "          element.appendChild(docLink);\n",
              "        }\n",
              "      </script>\n",
              "    </div>\n",
              "  </div>\n",
              "  "
            ],
            "text/plain": [
              "         id  diagnosis  radius_mean  texture_mean  perimeter_mean  area_mean  \\\n",
              "0    842302          0     1.102422     -2.071512        1.268389   0.983510   \n",
              "1    842517          0     1.836635     -0.353322        1.684639   1.907030   \n",
              "2  84300903          0     1.586206      0.455786        1.565122   1.557513   \n",
              "3  84348301          0    -0.767260      0.253509       -0.595257  -0.763792   \n",
              "4  84358402          0     1.756953     -1.150804        1.775308   1.824624   \n",
              "\n",
              "   smoothness_mean  compactness_mean  concavity_mean  concave points_mean  \\\n",
              "0         1.567087          3.280628        2.650837             2.530249   \n",
              "1        -0.826235         -0.486643       -0.025417             0.547662   \n",
              "2         0.941382          1.052000        1.361666             2.035440   \n",
              "3         3.280667          3.399917        1.913989             1.450431   \n",
              "4         0.280125          0.538866        1.369198             1.427237   \n",
              "\n",
              "   ...  radius_worst  texture_worst  perimeter_worst  area_worst  \\\n",
              "0  ...      1.885031      -1.358098         2.301575    1.998658   \n",
              "1  ...      1.804340      -0.368879         1.533776    1.887973   \n",
              "2  ...      1.510541      -0.023953         1.346291    1.454016   \n",
              "3  ...     -0.281217       0.133866        -0.249720   -0.551147   \n",
              "4  ...      1.297434      -1.465481         1.337363    1.218589   \n",
              "\n",
              "   smoothness_worst  compactness_worst  concavity_worst  concave points_worst  \\\n",
              "0          1.306537           2.614365         2.107374              2.294058   \n",
              "1         -0.375282          -0.430066        -0.147968              1.086129   \n",
              "2          0.526944           1.081980         0.853340              1.953282   \n",
              "3          3.391291           3.889975         1.987485              2.173873   \n",
              "4          0.220362          -0.313119         0.611645              0.728618   \n",
              "\n",
              "   symmetry_worst  fractal_dimension_worst  \n",
              "0        2.748204                 1.935312  \n",
              "1       -0.243675                 0.280943  \n",
              "2        1.151242                 0.201214  \n",
              "3        6.040726                 4.930672  \n",
              "4       -0.867590                -0.396751  \n",
              "\n",
              "[5 rows x 32 columns]"
            ]
          },
          "execution_count": 3,
          "metadata": {},
          "output_type": "execute_result"
        }
      ],
      "source": [
        "data.head()"
      ]
    },
    {
      "cell_type": "code",
      "execution_count": 4,
      "metadata": {
        "colab": {
          "base_uri": "https://localhost:8080/"
        },
        "id": "Jf_v2FhNl3FV",
        "outputId": "ca5dc723-81b7-48c6-df4e-3697c6213bcb"
      },
      "outputs": [
        {
          "name": "stdout",
          "output_type": "stream",
          "text": [
            "0      0\n",
            "1      0\n",
            "2      0\n",
            "3      0\n",
            "4      0\n",
            "      ..\n",
            "564    0\n",
            "565    0\n",
            "566    0\n",
            "567    0\n",
            "568    1\n",
            "Name: diagnosis, Length: 569, dtype: int64\n"
          ]
        }
      ],
      "source": [
        "y=data.iloc[:,1]\n",
        "X=data.iloc[:,2:]\n",
        "\n",
        "#print(X)\n",
        "print(y)\n",
        "\n"
      ]
    },
    {
      "cell_type": "code",
      "execution_count": 5,
      "metadata": {
        "id": "MSc6lG99dmET"
      },
      "outputs": [],
      "source": []
    },
    {
      "cell_type": "code",
      "execution_count": 6,
      "metadata": {
        "colab": {
          "base_uri": "https://localhost:8080/"
        },
        "id": "edT-X6Fmd0-f",
        "outputId": "5ff3051c-a31e-412a-fd9e-9257d3ab0dff"
      },
      "outputs": [
        {
          "name": "stdout",
          "output_type": "stream",
          "text": [
            "Accuracy is: 0.9771528998242531\n"
          ]
        }
      ],
      "source": [
        "l = LDA()\n",
        "#l.fit_normal_dist(X,y)\n",
        "l.fit_transform(X, y)\n",
        "print(f'Accuracy is: {l.evaluate(X, y)}')"
      ]
    },
    {
      "cell_type": "code",
      "execution_count": 7,
      "metadata": {
        "colab": {
          "base_uri": "https://localhost:8080/"
        },
        "id": "T8Mah045d3BJ",
        "outputId": "dcdc0094-9b51-46f2-d051-ebd44dde8b4a"
      },
      "outputs": [
        {
          "name": "stdout",
          "output_type": "stream",
          "text": [
            "The discriminant vector in 1-D is 0.04076801402697723 a single point.\n"
          ]
        }
      ],
      "source": [
        "print(f'The discriminant vector in 1-D is {l.t} a single point.') # this is the discriminant vector(a single point) in 1-D"
      ]
    },
    {
      "cell_type": "code",
      "execution_count": 8,
      "metadata": {
        "id": "ZXmjSe8od5nb"
      },
      "outputs": [],
      "source": [
        "def normal_pdf(x, mu, var):\n",
        "    return (1 / np.sqrt(2 * np.pi * var)) * np.exp(-0.5 * ((x - mu)**2) / var)"
      ]
    },
    {
      "cell_type": "code",
      "execution_count": 9,
      "metadata": {
        "colab": {
          "base_uri": "https://localhost:8080/",
          "height": 494
        },
        "id": "nXAu-iBNd70c",
        "outputId": "5afc8a1c-acc2-4c05-8e2d-08bb5ef6dad6"
      },
      "outputs": [
        {
          "data": {
            "text/plain": [
              "[<matplotlib.lines.Line2D at 0x7fb1dd7fefd0>]"
            ]
          },
          "execution_count": 9,
          "metadata": {},
          "output_type": "execute_result"
        },
        {
          "data": {
            "image/png": "[encoded data removed]",
            "text/plain": [
              "<Figure size 1440x720 with 1 Axes>"
            ]
          },
          "metadata": {
            "needs_background": "light"
          },
          "output_type": "display_data"
        }
      ],
      "source": [
        "from matplotlib.lines import Line2D\n",
        "fig = plt.figure(figsize=(20, 10))\n",
        "plt.ylim(-.1, 2.5)\n",
        "plt.xlim(-2.5, 2.5)\n",
        "\n",
        "lines = [Line2D([0], [0], color='red', linewidth=3, linestyle='-'),\n",
        "        Line2D([0], [0], color='blue', linewidth=3, linestyle='-')]\n",
        "labels = ['0', '1']\n",
        "plt.legend(lines, labels)\n",
        "\n",
        "plt.plot(l.X_transformed0, np.zeros_like(l.X_transformed0), 'x', color='red')\n",
        "plt.plot(l.X_transformed1, np.zeros_like(l.X_transformed1), 'o', color='blue')\n",
        "x_plot = np.linspace(-50, 50, 10000)\n",
        "y_0 = normal_pdf(x_plot, np.mean(l.X_transformed0), np.var(l.X_transformed0))\n",
        "y_1 = normal_pdf(x_plot, np.mean(l.X_transformed1), np.var(l.X_transformed1))\n",
        "plt.fill_between(x_plot, y_0, color='red', alpha=0.2)\n",
        "plt.fill_between(x_plot, y_1, color='blue', alpha=0.2)\n",
        "plt.plot([l.t for x in x_plot], x_plot, color='green')"
      ]
    }
  ],
  "metadata": {
    "colab": {
      "provenance": []
    },
    "kernelspec": {
      "display_name": "Python 3",
      "name": "python3"
    },
    "language_info": {
      "name": "python"
    }
  },
  "nbformat": 4,
  "nbformat_minor": 0
}
